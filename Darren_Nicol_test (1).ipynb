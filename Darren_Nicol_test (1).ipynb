{
 "cells": [
  {
   "cell_type": "markdown",
   "id": "44825bf5-65da-413b-a758-84f443eeea4e",
   "metadata": {},
   "source": [
    "# My Jupyter Notebook on IBM Watson Studio"
   ]
  },
  {
   "cell_type": "markdown",
   "id": "4ed1fefb-3f8e-49e0-b735-30d20eff3db7",
   "metadata": {},
   "source": [
    "\n",
    "**Darren Nicol**\n",
    "\n",
    "Data Scientist"
   ]
  },
  {
   "cell_type": "markdown",
   "id": "ed251ad2-3ba2-4837-bbbf-3292e04da5a5",
   "metadata": {},
   "source": [
    "\n",
    "*I would love to be a data scientist because I love numbers*"
   ]
  },
  {
   "cell_type": "markdown",
   "id": "c6488029-4a25-474e-ad78-0b28c8d482f9",
   "metadata": {},
   "source": [
    "### The following code will blow your mind, it adds two numbers!"
   ]
  },
  {
   "cell_type": "code",
   "execution_count": 3,
   "id": "534fc944-6312-4225-a6d8-641aa97d5aad",
   "metadata": {},
   "outputs": [
    {
     "data": {
      "text/plain": [
       "11"
      ]
     },
     "execution_count": 3,
     "metadata": {},
     "output_type": "execute_result"
    }
   ],
   "source": [
    "\n",
    "def add_two_nums(a, b): \n",
    "    return(a+b)\n",
    "\n",
    "add_two_nums(5,6)"
   ]
  },
  {
   "cell_type": "markdown",
   "id": "84a79127-a587-4bdf-b5c0-423605a3bcdb",
   "metadata": {},
   "source": [
    "*********"
   ]
  },
  {
   "cell_type": "markdown",
   "id": "c5ee8542-bffb-43af-960c-40b43e407dda",
   "metadata": {},
   "source": [
    "\n",
    "- First bullet\n",
    "- Second bullet \n",
    "- Third bullet \n",
    "- and fourth one"
   ]
  },
  {
   "cell_type": "markdown",
   "id": "71bfb066-171f-44ac-b0d9-2db12edd7700",
   "metadata": {},
   "source": [
    "\n",
    "1. First item\n",
    "2. Second item\n",
    "3. Third item\n",
    "4. Fourth item"
   ]
  },
  {
   "cell_type": "markdown",
   "id": "91c73c23-46ed-4e3d-a436-bca6a69b3447",
   "metadata": {},
   "source": [
    "\n",
    "<https://www.markdownguide.org>\n",
    "\n",
    "Four requirements (horizontal line, unordered bullets, ordered list and a link)- thanks"
   ]
  },
  {
   "cell_type": "code",
   "execution_count": null,
   "id": "4dbe75d3-d480-4daf-887c-44a733a64dc0",
   "metadata": {},
   "outputs": [],
   "source": []
  }
 ],
 "metadata": {
  "kernelspec": {
   "display_name": "Python 3 (ipykernel)",
   "language": "python",
   "name": "python3"
  },
  "language_info": {
   "codemirror_mode": {
    "name": "ipython",
    "version": 3
   },
   "file_extension": ".py",
   "mimetype": "text/x-python",
   "name": "python",
   "nbconvert_exporter": "python",
   "pygments_lexer": "ipython3",
   "version": "3.9.12"
  }
 },
 "nbformat": 4,
 "nbformat_minor": 5
}
